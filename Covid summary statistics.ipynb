{
 "cells": [
  {
   "attachments": {},
   "cell_type": "markdown",
   "metadata": {},
   "source": [
    "### Note\n",
    "* Instructions have been included for each segment. You do not have to follow them exactly, but they are included to help you think through the steps."
   ]
  },
  {
   "cell_type": "code",
   "execution_count": 19,
   "metadata": {},
   "outputs": [
    {
     "data": {
      "text/html": [
       "<div>\n",
       "<style scoped>\n",
       "    .dataframe tbody tr th:only-of-type {\n",
       "        vertical-align: middle;\n",
       "    }\n",
       "\n",
       "    .dataframe tbody tr th {\n",
       "        vertical-align: top;\n",
       "    }\n",
       "\n",
       "    .dataframe thead th {\n",
       "        text-align: right;\n",
       "    }\n",
       "</style>\n",
       "<table border=\"1\" class=\"dataframe\">\n",
       "  <thead>\n",
       "    <tr style=\"text-align: right;\">\n",
       "      <th></th>\n",
       "      <th>Country</th>\n",
       "      <th>New_cases</th>\n",
       "      <th>Cumulative_cases</th>\n",
       "      <th>New_deaths</th>\n",
       "      <th>Cumulative_deaths</th>\n",
       "      <th>Latitude</th>\n",
       "      <th>Longitude</th>\n",
       "    </tr>\n",
       "  </thead>\n",
       "  <tbody>\n",
       "    <tr>\n",
       "      <th>0</th>\n",
       "      <td>Afghanistan</td>\n",
       "      <td>223175</td>\n",
       "      <td>153899577</td>\n",
       "      <td>7928</td>\n",
       "      <td>6294821</td>\n",
       "      <td>33.768006</td>\n",
       "      <td>66.238514</td>\n",
       "    </tr>\n",
       "    <tr>\n",
       "      <th>1</th>\n",
       "      <td>Albania</td>\n",
       "      <td>334090</td>\n",
       "      <td>221742640</td>\n",
       "      <td>3604</td>\n",
       "      <td>2878307</td>\n",
       "      <td>41.000028</td>\n",
       "      <td>19.999962</td>\n",
       "    </tr>\n",
       "    <tr>\n",
       "      <th>2</th>\n",
       "      <td>Algeria</td>\n",
       "      <td>271847</td>\n",
       "      <td>212629366</td>\n",
       "      <td>6881</td>\n",
       "      <td>5656884</td>\n",
       "      <td>28.000027</td>\n",
       "      <td>2.999983</td>\n",
       "    </tr>\n",
       "    <tr>\n",
       "      <th>3</th>\n",
       "      <td>American Samoa</td>\n",
       "      <td>8332</td>\n",
       "      <td>3551635</td>\n",
       "      <td>34</td>\n",
       "      <td>14618</td>\n",
       "      <td>-11.053002</td>\n",
       "      <td>-171.081703</td>\n",
       "    </tr>\n",
       "    <tr>\n",
       "      <th>4</th>\n",
       "      <td>Andorra</td>\n",
       "      <td>48015</td>\n",
       "      <td>29836693</td>\n",
       "      <td>159</td>\n",
       "      <td>144217</td>\n",
       "      <td>40.975336</td>\n",
       "      <td>-0.444278</td>\n",
       "    </tr>\n",
       "  </tbody>\n",
       "</table>\n",
       "</div>"
      ],
      "text/plain": [
       "          Country  New_cases  Cumulative_cases  New_deaths  Cumulative_deaths  \\\n",
       "0     Afghanistan     223175         153899577        7928            6294821   \n",
       "1         Albania     334090         221742640        3604            2878307   \n",
       "2         Algeria     271847         212629366        6881            5656884   \n",
       "3  American Samoa       8332           3551635          34              14618   \n",
       "4         Andorra      48015          29836693         159             144217   \n",
       "\n",
       "    Latitude   Longitude  \n",
       "0  33.768006   66.238514  \n",
       "1  41.000028   19.999962  \n",
       "2  28.000027    2.999983  \n",
       "3 -11.053002 -171.081703  \n",
       "4  40.975336   -0.444278  "
      ]
     },
     "execution_count": 19,
     "metadata": {},
     "output_type": "execute_result"
    }
   ],
   "source": [
    "# Dependencies and Setup\n",
    "import pandas as pd\n",
    "from pathlib import Path\n",
    "import numpy as np\n",
    "from matplotlib import pyplot as plt\n",
    "\n",
    "# File to Load (Remember to Change These)\n",
    "covid_data_to_load = Path(\"covid19.csv\")\n",
    "\n",
    "\n",
    "# Read School and Student Data File and store into Pandas DataFrames\n",
    "covid_data_to_load_data = pd.read_csv(covid_data_to_load)\n",
    "\n",
    "covid_data_to_load_data.head()\n",
    " \n"
   ]
  },
  {
   "cell_type": "code",
   "execution_count": 5,
   "metadata": {},
   "outputs": [
    {
     "data": {
      "text/plain": [
       "233"
      ]
     },
     "execution_count": 5,
     "metadata": {},
     "output_type": "execute_result"
    }
   ],
   "source": [
    "# Calculate the total  number of countries in the dataset\n",
    "unique_country_name=covid_data_to_load_data[\"Country\"].unique()\n",
    "total_country_number=len(unique_country_name)\n",
    "total_country_number"
   ]
  },
  {
   "cell_type": "code",
   "execution_count": 7,
   "metadata": {
    "scrolled": true
   },
   "outputs": [
    {
     "data": {
      "text/plain": [
       "405251721844"
      ]
     },
     "execution_count": 7,
     "metadata": {},
     "output_type": "execute_result"
    }
   ],
   "source": [
    "#Calculate the total number of covid cases\n",
    "total_covid_cases=covid_data_to_load_data[\"Cumulative_cases\"].sum()\n",
    "total_covid_cases"
   ]
  },
  {
   "cell_type": "code",
   "execution_count": 12,
   "metadata": {},
   "outputs": [
    {
     "data": {
      "text/plain": [
       "5196529330"
      ]
     },
     "execution_count": 12,
     "metadata": {},
     "output_type": "execute_result"
    }
   ],
   "source": [
    "#Calculate the total number of cumulative deaths in the dataset\n",
    "total_covid_deaths = covid_data_to_load_data[\"Cumulative_deaths\"].sum()\n",
    "total_covid_deaths"
   ]
  },
  {
   "cell_type": "code",
   "execution_count": 13,
   "metadata": {},
   "outputs": [
    {
     "data": {
      "text/plain": [
       "1739277776.1545064"
      ]
     },
     "execution_count": 13,
     "metadata": {},
     "output_type": "execute_result"
    }
   ],
   "source": [
    "#Calculate the average cumulative cases in the dataset\n",
    "average_cumulative_cases = covid_data_to_load_data[\"Cumulative_cases\"].mean()\n",
    "average_cumulative_cases "
   ]
  },
  {
   "cell_type": "code",
   "execution_count": 10,
   "metadata": {},
   "outputs": [
    {
     "data": {
      "text/plain": [
       "22302700.98712446"
      ]
     },
     "execution_count": 10,
     "metadata": {},
     "output_type": "execute_result"
    }
   ],
   "source": [
    "#Calculate the average cumulative deaths in the dataset\n",
    "average_cumulative_deaths = covid_data_to_load_data[\"Cumulative_deaths\"].mean()\n",
    "average_cumulative_deaths "
   ]
  },
  {
   "cell_type": "code",
   "execution_count": 15,
   "metadata": {},
   "outputs": [
    {
     "data": {
      "text/plain": [
       "Country\n",
       "Afghanistan          1.538996e+08\n",
       "Albania              2.217426e+08\n",
       "Algeria              2.126294e+08\n",
       "American Samoa       3.551635e+06\n",
       "Andorra              2.983669e+07\n",
       "                         ...     \n",
       "Viet Nam             5.598072e+09\n",
       "Wallis and Futuna    1.174021e+06\n",
       "Yemen                9.196794e+06\n",
       "Zambia               2.337966e+08\n",
       "Zimbabwe             1.696279e+08\n",
       "Name: Cumulative_cases, Length: 233, dtype: float64"
      ]
     },
     "execution_count": 15,
     "metadata": {},
     "output_type": "execute_result"
    }
   ],
   "source": [
    "# Calculate total cumulative cases by country\n",
    "total_covidcases_bycountry = covid_data_to_load_data.groupby(\"Country\").mean()[\"Cumulative_cases\"]\n",
    "total_covidcases_bycountry "
   ]
  },
  {
   "cell_type": "code",
   "execution_count": 17,
   "metadata": {},
   "outputs": [
    {
     "data": {
      "text/html": [
       "<div>\n",
       "<style scoped>\n",
       "    .dataframe tbody tr th:only-of-type {\n",
       "        vertical-align: middle;\n",
       "    }\n",
       "\n",
       "    .dataframe tbody tr th {\n",
       "        vertical-align: top;\n",
       "    }\n",
       "\n",
       "    .dataframe thead th {\n",
       "        text-align: right;\n",
       "    }\n",
       "</style>\n",
       "<table border=\"1\" class=\"dataframe\">\n",
       "  <thead>\n",
       "    <tr style=\"text-align: right;\">\n",
       "      <th></th>\n",
       "      <th>Number of Cases</th>\n",
       "    </tr>\n",
       "  </thead>\n",
       "  <tbody>\n",
       "    <tr>\n",
       "      <th>New_cases</th>\n",
       "      <td>766339879</td>\n",
       "    </tr>\n",
       "    <tr>\n",
       "      <th>Cumulative_cases</th>\n",
       "      <td>405251721844</td>\n",
       "    </tr>\n",
       "    <tr>\n",
       "      <th>New_deaths</th>\n",
       "      <td>6939172</td>\n",
       "    </tr>\n",
       "    <tr>\n",
       "      <th>Cumulative_deaths</th>\n",
       "      <td>5196529330</td>\n",
       "    </tr>\n",
       "  </tbody>\n",
       "</table>\n",
       "</div>"
      ],
      "text/plain": [
       "                   Number of Cases\n",
       "New_cases                766339879\n",
       "Cumulative_cases      405251721844\n",
       "New_deaths                 6939172\n",
       "Cumulative_deaths       5196529330"
      ]
     },
     "execution_count": 17,
     "metadata": {},
     "output_type": "execute_result"
    }
   ],
   "source": [
    "#number of total new and cumulative cases, new and cumulative deaths globally\n",
    "worldwide_stats = covid_data_to_load_data[['New_cases', 'Cumulative_cases', 'New_deaths', 'Cumulative_deaths']].sum()\n",
    "worldwide_stats = worldwide_stats.to_frame().rename(columns={0: 'Number of Cases'})\n",
    "worldwide_stats"
   ]
  },
  {
   "cell_type": "code",
   "execution_count": 28,
   "metadata": {},
   "outputs": [
    {
     "data": {
      "text/html": [
       "<div>\n",
       "<style scoped>\n",
       "    .dataframe tbody tr th:only-of-type {\n",
       "        vertical-align: middle;\n",
       "    }\n",
       "\n",
       "    .dataframe tbody tr th {\n",
       "        vertical-align: top;\n",
       "    }\n",
       "\n",
       "    .dataframe thead th {\n",
       "        text-align: right;\n",
       "    }\n",
       "</style>\n",
       "<table border=\"1\" class=\"dataframe\">\n",
       "  <thead>\n",
       "    <tr style=\"text-align: right;\">\n",
       "      <th></th>\n",
       "      <th>Country</th>\n",
       "      <th>Cumulative_cases</th>\n",
       "    </tr>\n",
       "  </thead>\n",
       "  <tbody>\n",
       "    <tr>\n",
       "      <th>0</th>\n",
       "      <td>United States of America</td>\n",
       "      <td>64496325842</td>\n",
       "    </tr>\n",
       "    <tr>\n",
       "      <th>1</th>\n",
       "      <td>India</td>\n",
       "      <td>34068533022</td>\n",
       "    </tr>\n",
       "    <tr>\n",
       "      <th>2</th>\n",
       "      <td>Brazil</td>\n",
       "      <td>25258981152</td>\n",
       "    </tr>\n",
       "    <tr>\n",
       "      <th>3</th>\n",
       "      <td>China</td>\n",
       "      <td>20054618619</td>\n",
       "    </tr>\n",
       "    <tr>\n",
       "      <th>4</th>\n",
       "      <td>France</td>\n",
       "      <td>19560844190</td>\n",
       "    </tr>\n",
       "    <tr>\n",
       "      <th>5</th>\n",
       "      <td>Germany</td>\n",
       "      <td>17892944570</td>\n",
       "    </tr>\n",
       "    <tr>\n",
       "      <th>6</th>\n",
       "      <td>The United Kingdom</td>\n",
       "      <td>14829767085</td>\n",
       "    </tr>\n",
       "    <tr>\n",
       "      <th>7</th>\n",
       "      <td>Russian Federation</td>\n",
       "      <td>13260421559</td>\n",
       "    </tr>\n",
       "    <tr>\n",
       "      <th>8</th>\n",
       "      <td>Italy</td>\n",
       "      <td>12928081898</td>\n",
       "    </tr>\n",
       "    <tr>\n",
       "      <th>9</th>\n",
       "      <td>Republic of Korea</td>\n",
       "      <td>11929505476</td>\n",
       "    </tr>\n",
       "  </tbody>\n",
       "</table>\n",
       "</div>"
      ],
      "text/plain": [
       "                    Country  Cumulative_cases\n",
       "0  United States of America       64496325842\n",
       "1                     India       34068533022\n",
       "2                    Brazil       25258981152\n",
       "3                     China       20054618619\n",
       "4                    France       19560844190\n",
       "5                   Germany       17892944570\n",
       "6        The United Kingdom       14829767085\n",
       "7        Russian Federation       13260421559\n",
       "8                     Italy       12928081898\n",
       "9         Republic of Korea       11929505476"
      ]
     },
     "execution_count": 28,
     "metadata": {},
     "output_type": "execute_result"
    }
   ],
   "source": [
    "top_10_confirmed = covid_data_to_load_data.sort_values('Cumulative_cases', ascending=False)[:10][['Country', 'Cumulative_cases']].reset_index(drop=True)\n",
    "top_10_confirmed"
   ]
  }
 ],
 "metadata": {
  "anaconda-cloud": {},
  "kernel_info": {
   "name": "python3"
  },
  "kernelspec": {
   "display_name": "Python 3 (ipykernel)",
   "language": "python",
   "name": "python3"
  },
  "language_info": {
   "codemirror_mode": {
    "name": "ipython",
    "version": 3
   },
   "file_extension": ".py",
   "mimetype": "text/x-python",
   "name": "python",
   "nbconvert_exporter": "python",
   "pygments_lexer": "ipython3",
   "version": "3.10.10"
  },
  "latex_envs": {
   "LaTeX_envs_menu_present": true,
   "autoclose": false,
   "autocomplete": true,
   "bibliofile": "biblio.bib",
   "cite_by": "apalike",
   "current_citInitial": 1,
   "eqLabelWithNumbers": true,
   "eqNumInitial": 1,
   "hotkeys": {
    "equation": "Ctrl-E",
    "itemize": "Ctrl-I"
   },
   "labels_anchors": false,
   "latex_user_defs": false,
   "report_style_numbering": false,
   "user_envs_cfg": false
  },
  "nteract": {
   "version": "0.8.4"
  }
 },
 "nbformat": 4,
 "nbformat_minor": 1
}
